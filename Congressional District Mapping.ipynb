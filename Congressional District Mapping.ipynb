{
 "cells": [
  {
   "cell_type": "code",
   "execution_count": null,
   "metadata": {},
   "outputs": [],
   "source": [
    "import pandas as pd\n",
    "import matplotlib\n",
    "import matplotlib.pyplot as plt\n",
    "import numpy as np\n",
    "import math\n",
    "import geopandas as gpd\n",
    "import random\n",
    "from bs4 import BeautifulSoup\n",
    "import html5lib\n",
    "import requests\n",
    "import regex as re\n",
    "from matplotlib import colors"
   ]
  },
  {
   "cell_type": "code",
   "execution_count": null,
   "metadata": {},
   "outputs": [],
   "source": [
    "states = gpd.read_file('/Users/gmoos19/Downloads/tl_2021_us_state/tl_2021_us_state.shp')\n",
    "districts = gpd.read_file('/Users/gmoos19/Downloads/tl_2021_us_cd116/tl_2021_us_cd116.shp')"
   ]
  },
  {
   "cell_type": "code",
   "execution_count": null,
   "metadata": {},
   "outputs": [],
   "source": [
    "regions = {'Index': ['1','2','3','4'], 'Region': ['Northeast','Midwest', 'South','West']}\n",
    "r_df = pd.DataFrame(regions)"
   ]
  },
  {
   "cell_type": "code",
   "execution_count": null,
   "metadata": {},
   "outputs": [],
   "source": [
    "r = requests.get(\"https://www.nrcs.usda.gov/wps/portal/nrcs/detail/?cid=nrcs143_013696\")\n",
    "soup = BeautifulSoup(r.content)\n",
    "soup.find_all('th')\n",
    "names = []\n",
    "postal_codes = []\n",
    "FIPS = []\n",
    "names.append(str(soup.find_all('th')[0]).replace('<th scope=\"col\">',\"\").replace('</th>',\"\").replace('\\r\\n\\t\\t\\t\\t',\"\"))\n",
    "postal_codes.append(str(soup.find_all('th')[1]).replace('<th scope=\"col\">',\"\").replace('</th>',\"\").replace('\\r\\n\\t\\t\\t\\t',\"\"))\n",
    "FIPS.append(str(soup.find_all('th')[2]).replace('<th scope=\"col\">',\"\").replace('</th>',\"\").replace('\\r\\n\\t\\t\\t\\t',\"\"))\n",
    "fp_list = soup.find_all('td')\n",
    "for i in range(30,195,3):\n",
    "    names.append(str(fp_list[i]).replace(\"</td>\",\"\").replace('<td>\\r\\n\\t\\t\\t\\t',\"\"))\n",
    "    postal_codes.append(str(fp_list[i+1]).replace(\"</td>\",\"\").replace('<td>\\r\\n\\t\\t\\t\\t',\"\"))\n",
    "    FIPS.append(str(fp_list[i+2]).replace(\"</td>\",\"\").replace('<td>\\r\\n\\t\\t\\t\\t',\"\"))\n",
    "    \n",
    "state_fps = {names[0]: names[1:], postal_codes[0]: postal_codes[1:], FIPS[0]: FIPS[1:]}\n",
    "state_fps_df = pd.DataFrame(state_fps)"
   ]
  },
  {
   "cell_type": "code",
   "execution_count": null,
   "metadata": {},
   "outputs": [],
   "source": [
    "districts = districts.merge(state_fps_df,how='left', left_on='STATEFP', right_on='FIPS').drop(columns='FIPS')\n",
    "region_state_df = states[['REGION','STUSPS']]\n",
    "region_state_df = region_state_df.merge(r_df, how='left', left_on='REGION', right_on='Index').drop(columns=['Index','REGION'])\n",
    "districts = districts.merge(region_state_df,how='left', left_on='Postal Code', right_on='STUSPS').drop(columns='STUSPS')"
   ]
  },
  {
   "cell_type": "code",
   "execution_count": null,
   "metadata": {},
   "outputs": [],
   "source": [
    "congressional = requests.get('https://www.house.gov/representatives')\n",
    "soup1 = BeautifulSoup(congressional.content)\n",
    "congress_people = soup1.find_all('table')\n",
    "state_leg_dict = {'State': [], 'Party': [], 'Districts': [], 'Full Names': []}\n",
    "\n",
    "for state_leg in congress_people:\n",
    "    state_leg = str(state_leg)\n",
    "    state = re.search('>\\n(.*)\\n                </caption>', state_leg)\n",
    "    state_name = state.group(1).strip()\n",
    "    district_lst = re.findall('class=\"views-field views-field-value-2\"(.*)        </td>', state_leg)\n",
    "    full_names = re.findall('.house.gov[/]{0,1}\">(.*)</a> </td>', state_leg)\n",
    "    party = re.findall('class=\"views-field views-field-value-7\"(.*)        </td>', state_leg)\n",
    "    if state_name == 'Minnesota':\n",
    "        full_names.insert(0,'Hagedorn, Jim')\n",
    "    if state_name == 'Massachusetts':\n",
    "        full_names.insert(4, 'Clark, Katherine')\n",
    "    if state_name == 'California':\n",
    "        full_names.insert(21, 'Nunes, Devin')\n",
    "    if len(state_name) > 1:\n",
    "        for i in party:\n",
    "            if i[-1] == ' ':\n",
    "                state_leg_dict['Party'].append('R')\n",
    "            else:\n",
    "                state_leg_dict['Party'].append(i[-1])\n",
    "            state_leg_dict['State'].append(state_name)\n",
    "        for dist in district_lst:\n",
    "            dist_code = dist.split('>')[-1]\n",
    "            if dist_code == 'At Large':\n",
    "                dist_code = '00'\n",
    "            else:\n",
    "                dist_code = dist_code[:-2]\n",
    "            if len(dist_code) == 1:\n",
    "                dist_code = '0' + dist_code\n",
    "            state_leg_dict['Districts'].append(dist_code)\n",
    "        for name in full_names:\n",
    "            state_leg_dict['Full Names'].append(name)\n",
    "states_df = pd.DataFrame(state_leg_dict)"
   ]
  },
  {
   "cell_type": "code",
   "execution_count": null,
   "metadata": {},
   "outputs": [],
   "source": [
    "states_df['State'].unique()\n",
    "lst_to_remove = ['American Samoa', 'District of Columbia', 'Guam', 'Northern Mariana Islands', 'Puerto Rico', 'Virgin Islands']\n",
    "states_df = states_df[~states_df['State'].isin(lst_to_remove)]\n",
    "full_mapping = districts.merge(states_df,how='left', left_on=['Name','CD116FP'], right_on=['State','Districts']).drop(columns=['Name'])\n",
    "lower_48 = full_mapping[~full_mapping['State'].isin(['Hawaii', 'Alaska'])]\n"
   ]
  },
  {
   "cell_type": "code",
   "execution_count": null,
   "metadata": {},
   "outputs": [],
   "source": [
    "from mpl_toolkits.axes_grid1 import make_axes_locatable\n",
    "South = full_mapping[full_mapping['State'] == 'Florida']\n",
    "cmap = colors.ListedColormap(['blue', 'red'])\n",
    "fig, ax = plt.subplots(1, 1)\n",
    "divider = make_axes_locatable(ax)\n",
    "lower_48.plot(column='Party', cmap=cmap, figsize=(200, 2000), ax=ax, legend=True, edgecolor='black')"
   ]
  },
  {
   "cell_type": "code",
   "execution_count": null,
   "metadata": {},
   "outputs": [],
   "source": [
    "test_mapping = full_mapping[full_mapping['Region'].isin(['Northeast', 'Midwest', 'West', 'South'])]"
   ]
  },
  {
   "cell_type": "code",
   "execution_count": null,
   "metadata": {},
   "outputs": [],
   "source": [
    "test_map = create_map(test_mapping)\n",
    "test_map.save('congressional_mapping.html')"
   ]
  },
  {
   "cell_type": "code",
   "execution_count": null,
   "metadata": {},
   "outputs": [],
   "source": [
    "def target_state(df, state=None, is_region=False, region=None):\n",
    "    \n",
    "    if not is_region:\n",
    "        a = df[df['State'] == state]\n",
    "    else:\n",
    "        a = df[df['Region'] == region]\n",
    "        \n",
    "    return a\n",
    "    \n",
    "def create_map(df):\n",
    "    mapping = df.explore(\n",
    "     column='Party', # make choropleth based on \"BoroName\" column\n",
    "     tooltip=\"Party\", # show \"BoroName\" value in tooltip (on hover)\n",
    "     popup=True, # show all values in popup (on click)\n",
    "     tiles=\"CartoDB positron\", # use \"CartoDB positron\" tiles\n",
    "     cmap=['blue','red'], # use \"Set1\" matplotlib colormap\n",
    "     style_kwds=dict(color=\"black\"), # use black outline\n",
    "    width = '50%',\n",
    "    height = \"50%\")\n",
    "    return mapping\n",
    "\n",
    "\n",
    "\n",
    "test_mapping_1 = target_state(test_mapping, None, True, 'South')\n",
    "mapped_test = create_map(test_mapping_1)\n",
    "\n",
    "\n",
    "sw = test_mapping_1[['INTPTLAT', 'INTPTLON']].min().values.tolist()\n",
    "ne = test_mapping_1[['INTPTLAT', 'INTPTLON']].max().values.tolist()\n",
    "\n",
    "mapped_test.fit_bounds([sw, ne]) \n",
    "mapped_test"
   ]
  },
  {
   "cell_type": "code",
   "execution_count": null,
   "metadata": {},
   "outputs": [],
   "source": []
  }
 ],
 "metadata": {
  "kernelspec": {
   "display_name": "Python 3",
   "language": "python",
   "name": "python3"
  },
  "language_info": {
   "codemirror_mode": {
    "name": "ipython",
    "version": 3
   },
   "file_extension": ".py",
   "mimetype": "text/x-python",
   "name": "python",
   "nbconvert_exporter": "python",
   "pygments_lexer": "ipython3",
   "version": "3.8.3"
  }
 },
 "nbformat": 4,
 "nbformat_minor": 4
}
